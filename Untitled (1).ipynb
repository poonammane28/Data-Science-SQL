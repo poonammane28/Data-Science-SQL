{
 "cells": [
  {
   "cell_type": "code",
   "execution_count": 1,
   "id": "978b12d0-3870-440e-9fbc-6315c82066ec",
   "metadata": {},
   "outputs": [
    {
     "name": "stdout",
     "output_type": "stream",
     "text": [
      "Requirement already satisfied: feedparser in c:\\users\\poona\\appdata\\local\\programs\\python\\python312\\lib\\site-packages (6.0.11)\n",
      "Requirement already satisfied: sqlalchemy in c:\\users\\poona\\appdata\\local\\programs\\python\\python312\\lib\\site-packages (2.0.35)\n",
      "Requirement already satisfied: psycopg2 in c:\\users\\poona\\appdata\\local\\programs\\python\\python312\\lib\\site-packages (2.9.9)\n",
      "Requirement already satisfied: spacy in c:\\users\\poona\\appdata\\local\\programs\\python\\python312\\lib\\site-packages (3.7.2)\n",
      "Requirement already satisfied: redis in c:\\users\\poona\\appdata\\local\\programs\\python\\python312\\lib\\site-packages (5.1.1)\n",
      "Requirement already satisfied: celery in c:\\users\\poona\\appdata\\local\\programs\\python\\python312\\lib\\site-packages (5.4.0)\n",
      "Requirement already satisfied: sgmllib3k in c:\\users\\poona\\appdata\\local\\programs\\python\\python312\\lib\\site-packages (from feedparser) (1.0.0)\n",
      "Requirement already satisfied: typing-extensions>=4.6.0 in c:\\users\\poona\\appdata\\local\\programs\\python\\python312\\lib\\site-packages (from sqlalchemy) (4.9.0)\n",
      "Requirement already satisfied: greenlet!=0.4.17 in c:\\users\\poona\\appdata\\local\\programs\\python\\python312\\lib\\site-packages (from sqlalchemy) (3.1.1)\n",
      "Requirement already satisfied: spacy-legacy<3.1.0,>=3.0.11 in c:\\users\\poona\\appdata\\local\\programs\\python\\python312\\lib\\site-packages (from spacy) (3.0.12)\n",
      "Requirement already satisfied: spacy-loggers<2.0.0,>=1.0.0 in c:\\users\\poona\\appdata\\local\\programs\\python\\python312\\lib\\site-packages (from spacy) (1.0.5)\n",
      "Requirement already satisfied: murmurhash<1.1.0,>=0.28.0 in c:\\users\\poona\\appdata\\local\\programs\\python\\python312\\lib\\site-packages (from spacy) (1.0.10)\n",
      "Requirement already satisfied: cymem<2.1.0,>=2.0.2 in c:\\users\\poona\\appdata\\local\\programs\\python\\python312\\lib\\site-packages (from spacy) (2.0.8)\n",
      "Requirement already satisfied: preshed<3.1.0,>=3.0.2 in c:\\users\\poona\\appdata\\local\\programs\\python\\python312\\lib\\site-packages (from spacy) (3.0.9)\n",
      "Requirement already satisfied: thinc<8.3.0,>=8.1.8 in c:\\users\\poona\\appdata\\local\\programs\\python\\python312\\lib\\site-packages (from spacy) (8.2.2)\n",
      "Requirement already satisfied: wasabi<1.2.0,>=0.9.1 in c:\\users\\poona\\appdata\\local\\programs\\python\\python312\\lib\\site-packages (from spacy) (1.1.2)\n",
      "Requirement already satisfied: srsly<3.0.0,>=2.4.3 in c:\\users\\poona\\appdata\\local\\programs\\python\\python312\\lib\\site-packages (from spacy) (2.4.8)\n",
      "Requirement already satisfied: catalogue<2.1.0,>=2.0.6 in c:\\users\\poona\\appdata\\local\\programs\\python\\python312\\lib\\site-packages (from spacy) (2.0.10)\n",
      "Requirement already satisfied: weasel<0.4.0,>=0.1.0 in c:\\users\\poona\\appdata\\local\\programs\\python\\python312\\lib\\site-packages (from spacy) (0.3.4)\n",
      "Requirement already satisfied: typer<0.10.0,>=0.3.0 in c:\\users\\poona\\appdata\\local\\programs\\python\\python312\\lib\\site-packages (from spacy) (0.9.0)\n",
      "Requirement already satisfied: smart-open<7.0.0,>=5.2.1 in c:\\users\\poona\\appdata\\local\\programs\\python\\python312\\lib\\site-packages (from spacy) (6.4.0)\n",
      "Requirement already satisfied: tqdm<5.0.0,>=4.38.0 in c:\\users\\poona\\appdata\\local\\programs\\python\\python312\\lib\\site-packages (from spacy) (4.66.1)\n",
      "Requirement already satisfied: requests<3.0.0,>=2.13.0 in c:\\users\\poona\\appdata\\local\\programs\\python\\python312\\lib\\site-packages (from spacy) (2.31.0)\n",
      "Requirement already satisfied: pydantic!=1.8,!=1.8.1,<3.0.0,>=1.7.4 in c:\\users\\poona\\appdata\\local\\programs\\python\\python312\\lib\\site-packages (from spacy) (2.5.3)\n",
      "Requirement already satisfied: jinja2 in c:\\users\\poona\\appdata\\local\\programs\\python\\python312\\lib\\site-packages (from spacy) (3.1.2)\n",
      "Requirement already satisfied: setuptools in c:\\users\\poona\\appdata\\local\\programs\\python\\python312\\lib\\site-packages (from spacy) (69.0.3)\n",
      "Requirement already satisfied: packaging>=20.0 in c:\\users\\poona\\appdata\\local\\programs\\python\\python312\\lib\\site-packages (from spacy) (23.2)\n",
      "Requirement already satisfied: langcodes<4.0.0,>=3.2.0 in c:\\users\\poona\\appdata\\local\\programs\\python\\python312\\lib\\site-packages (from spacy) (3.3.0)\n",
      "Requirement already satisfied: numpy>=1.19.0 in c:\\users\\poona\\appdata\\local\\programs\\python\\python312\\lib\\site-packages (from spacy) (1.26.2)\n",
      "Requirement already satisfied: billiard<5.0,>=4.2.0 in c:\\users\\poona\\appdata\\local\\programs\\python\\python312\\lib\\site-packages (from celery) (4.2.1)\n",
      "Requirement already satisfied: kombu<6.0,>=5.3.4 in c:\\users\\poona\\appdata\\local\\programs\\python\\python312\\lib\\site-packages (from celery) (5.4.2)\n",
      "Requirement already satisfied: vine<6.0,>=5.1.0 in c:\\users\\poona\\appdata\\local\\programs\\python\\python312\\lib\\site-packages (from celery) (5.1.0)\n",
      "Requirement already satisfied: click<9.0,>=8.1.2 in c:\\users\\poona\\appdata\\local\\programs\\python\\python312\\lib\\site-packages (from celery) (8.1.7)\n",
      "Requirement already satisfied: click-didyoumean>=0.3.0 in c:\\users\\poona\\appdata\\local\\programs\\python\\python312\\lib\\site-packages (from celery) (0.3.1)\n",
      "Requirement already satisfied: click-repl>=0.2.0 in c:\\users\\poona\\appdata\\local\\programs\\python\\python312\\lib\\site-packages (from celery) (0.3.0)\n",
      "Requirement already satisfied: click-plugins>=1.1.1 in c:\\users\\poona\\appdata\\local\\programs\\python\\python312\\lib\\site-packages (from celery) (1.1.1)\n",
      "Requirement already satisfied: tzdata>=2022.7 in c:\\users\\poona\\appdata\\local\\programs\\python\\python312\\lib\\site-packages (from celery) (2023.3)\n",
      "Requirement already satisfied: python-dateutil>=2.8.2 in c:\\users\\poona\\appdata\\local\\programs\\python\\python312\\lib\\site-packages (from celery) (2.8.2)\n",
      "Requirement already satisfied: colorama in c:\\users\\poona\\appdata\\local\\programs\\python\\python312\\lib\\site-packages (from click<9.0,>=8.1.2->celery) (0.4.6)\n",
      "Requirement already satisfied: prompt-toolkit>=3.0.36 in c:\\users\\poona\\appdata\\local\\programs\\python\\python312\\lib\\site-packages (from click-repl>=0.2.0->celery) (3.0.43)\n",
      "Requirement already satisfied: amqp<6.0.0,>=5.1.1 in c:\\users\\poona\\appdata\\local\\programs\\python\\python312\\lib\\site-packages (from kombu<6.0,>=5.3.4->celery) (5.2.0)\n",
      "Requirement already satisfied: annotated-types>=0.4.0 in c:\\users\\poona\\appdata\\local\\programs\\python\\python312\\lib\\site-packages (from pydantic!=1.8,!=1.8.1,<3.0.0,>=1.7.4->spacy) (0.6.0)\n",
      "Requirement already satisfied: pydantic-core==2.14.6 in c:\\users\\poona\\appdata\\local\\programs\\python\\python312\\lib\\site-packages (from pydantic!=1.8,!=1.8.1,<3.0.0,>=1.7.4->spacy) (2.14.6)\n",
      "Requirement already satisfied: six>=1.5 in c:\\users\\poona\\appdata\\local\\programs\\python\\python312\\lib\\site-packages (from python-dateutil>=2.8.2->celery) (1.16.0)\n",
      "Requirement already satisfied: charset-normalizer<4,>=2 in c:\\users\\poona\\appdata\\local\\programs\\python\\python312\\lib\\site-packages (from requests<3.0.0,>=2.13.0->spacy) (3.3.2)\n",
      "Requirement already satisfied: idna<4,>=2.5 in c:\\users\\poona\\appdata\\local\\programs\\python\\python312\\lib\\site-packages (from requests<3.0.0,>=2.13.0->spacy) (3.6)\n",
      "Requirement already satisfied: urllib3<3,>=1.21.1 in c:\\users\\poona\\appdata\\local\\programs\\python\\python312\\lib\\site-packages (from requests<3.0.0,>=2.13.0->spacy) (2.1.0)\n",
      "Requirement already satisfied: certifi>=2017.4.17 in c:\\users\\poona\\appdata\\local\\programs\\python\\python312\\lib\\site-packages (from requests<3.0.0,>=2.13.0->spacy) (2023.11.17)\n",
      "Requirement already satisfied: blis<0.8.0,>=0.7.8 in c:\\users\\poona\\appdata\\local\\programs\\python\\python312\\lib\\site-packages (from thinc<8.3.0,>=8.1.8->spacy) (0.7.11)\n",
      "Requirement already satisfied: confection<1.0.0,>=0.0.1 in c:\\users\\poona\\appdata\\local\\programs\\python\\python312\\lib\\site-packages (from thinc<8.3.0,>=8.1.8->spacy) (0.1.4)\n",
      "Requirement already satisfied: cloudpathlib<0.17.0,>=0.7.0 in c:\\users\\poona\\appdata\\local\\programs\\python\\python312\\lib\\site-packages (from weasel<0.4.0,>=0.1.0->spacy) (0.16.0)\n",
      "Requirement already satisfied: MarkupSafe>=2.0 in c:\\users\\poona\\appdata\\local\\programs\\python\\python312\\lib\\site-packages (from jinja2->spacy) (2.1.3)\n",
      "Requirement already satisfied: wcwidth in c:\\users\\poona\\appdata\\local\\programs\\python\\python312\\lib\\site-packages (from prompt-toolkit>=3.0.36->click-repl>=0.2.0->celery) (0.2.12)\n",
      "Collecting en-core-web-sm==3.7.1\n",
      "  Downloading https://github.com/explosion/spacy-models/releases/download/en_core_web_sm-3.7.1/en_core_web_sm-3.7.1-py3-none-any.whl (12.8 MB)\n",
      "     ---------------------------------------- 0.0/12.8 MB ? eta -:--:--\n",
      "     -- ------------------------------------- 0.8/12.8 MB 6.7 MB/s eta 0:00:02\n",
      "     ------ --------------------------------- 2.1/12.8 MB 6.5 MB/s eta 0:00:02\n",
      "     ----------- ---------------------------- 3.7/12.8 MB 6.8 MB/s eta 0:00:02\n",
      "     --------------- ------------------------ 5.0/12.8 MB 6.6 MB/s eta 0:00:02\n",
      "     ------------------ --------------------- 6.0/12.8 MB 6.4 MB/s eta 0:00:02\n",
      "     ---------------------- ----------------- 7.3/12.8 MB 6.5 MB/s eta 0:00:01\n",
      "     --------------------------- ------------ 8.9/12.8 MB 6.5 MB/s eta 0:00:01\n",
      "     ------------------------------- -------- 10.2/12.8 MB 6.4 MB/s eta 0:00:01\n",
      "     ------------------------------------ --- 11.5/12.8 MB 6.6 MB/s eta 0:00:01\n",
      "     ---------------------------------------  12.6/12.8 MB 6.6 MB/s eta 0:00:01\n",
      "     ---------------------------------------- 12.8/12.8 MB 6.4 MB/s eta 0:00:00\n",
      "Requirement already satisfied: spacy<3.8.0,>=3.7.2 in c:\\users\\poona\\appdata\\local\\programs\\python\\python312\\lib\\site-packages (from en-core-web-sm==3.7.1) (3.7.2)\n",
      "Requirement already satisfied: spacy-legacy<3.1.0,>=3.0.11 in c:\\users\\poona\\appdata\\local\\programs\\python\\python312\\lib\\site-packages (from spacy<3.8.0,>=3.7.2->en-core-web-sm==3.7.1) (3.0.12)\n",
      "Requirement already satisfied: spacy-loggers<2.0.0,>=1.0.0 in c:\\users\\poona\\appdata\\local\\programs\\python\\python312\\lib\\site-packages (from spacy<3.8.0,>=3.7.2->en-core-web-sm==3.7.1) (1.0.5)\n",
      "Requirement already satisfied: murmurhash<1.1.0,>=0.28.0 in c:\\users\\poona\\appdata\\local\\programs\\python\\python312\\lib\\site-packages (from spacy<3.8.0,>=3.7.2->en-core-web-sm==3.7.1) (1.0.10)\n",
      "Requirement already satisfied: cymem<2.1.0,>=2.0.2 in c:\\users\\poona\\appdata\\local\\programs\\python\\python312\\lib\\site-packages (from spacy<3.8.0,>=3.7.2->en-core-web-sm==3.7.1) (2.0.8)\n",
      "Requirement already satisfied: preshed<3.1.0,>=3.0.2 in c:\\users\\poona\\appdata\\local\\programs\\python\\python312\\lib\\site-packages (from spacy<3.8.0,>=3.7.2->en-core-web-sm==3.7.1) (3.0.9)\n",
      "Requirement already satisfied: thinc<8.3.0,>=8.1.8 in c:\\users\\poona\\appdata\\local\\programs\\python\\python312\\lib\\site-packages (from spacy<3.8.0,>=3.7.2->en-core-web-sm==3.7.1) (8.2.2)\n",
      "Requirement already satisfied: wasabi<1.2.0,>=0.9.1 in c:\\users\\poona\\appdata\\local\\programs\\python\\python312\\lib\\site-packages (from spacy<3.8.0,>=3.7.2->en-core-web-sm==3.7.1) (1.1.2)\n",
      "Requirement already satisfied: srsly<3.0.0,>=2.4.3 in c:\\users\\poona\\appdata\\local\\programs\\python\\python312\\lib\\site-packages (from spacy<3.8.0,>=3.7.2->en-core-web-sm==3.7.1) (2.4.8)\n",
      "Requirement already satisfied: catalogue<2.1.0,>=2.0.6 in c:\\users\\poona\\appdata\\local\\programs\\python\\python312\\lib\\site-packages (from spacy<3.8.0,>=3.7.2->en-core-web-sm==3.7.1) (2.0.10)\n",
      "Requirement already satisfied: weasel<0.4.0,>=0.1.0 in c:\\users\\poona\\appdata\\local\\programs\\python\\python312\\lib\\site-packages (from spacy<3.8.0,>=3.7.2->en-core-web-sm==3.7.1) (0.3.4)\n",
      "Requirement already satisfied: typer<0.10.0,>=0.3.0 in c:\\users\\poona\\appdata\\local\\programs\\python\\python312\\lib\\site-packages (from spacy<3.8.0,>=3.7.2->en-core-web-sm==3.7.1) (0.9.0)\n",
      "Requirement already satisfied: smart-open<7.0.0,>=5.2.1 in c:\\users\\poona\\appdata\\local\\programs\\python\\python312\\lib\\site-packages (from spacy<3.8.0,>=3.7.2->en-core-web-sm==3.7.1) (6.4.0)\n",
      "Requirement already satisfied: tqdm<5.0.0,>=4.38.0 in c:\\users\\poona\\appdata\\local\\programs\\python\\python312\\lib\\site-packages (from spacy<3.8.0,>=3.7.2->en-core-web-sm==3.7.1) (4.66.1)\n",
      "Requirement already satisfied: requests<3.0.0,>=2.13.0 in c:\\users\\poona\\appdata\\local\\programs\\python\\python312\\lib\\site-packages (from spacy<3.8.0,>=3.7.2->en-core-web-sm==3.7.1) (2.31.0)\n",
      "Requirement already satisfied: pydantic!=1.8,!=1.8.1,<3.0.0,>=1.7.4 in c:\\users\\poona\\appdata\\local\\programs\\python\\python312\\lib\\site-packages (from spacy<3.8.0,>=3.7.2->en-core-web-sm==3.7.1) (2.5.3)\n",
      "Requirement already satisfied: jinja2 in c:\\users\\poona\\appdata\\local\\programs\\python\\python312\\lib\\site-packages (from spacy<3.8.0,>=3.7.2->en-core-web-sm==3.7.1) (3.1.2)\n",
      "Requirement already satisfied: setuptools in c:\\users\\poona\\appdata\\local\\programs\\python\\python312\\lib\\site-packages (from spacy<3.8.0,>=3.7.2->en-core-web-sm==3.7.1) (69.0.3)\n",
      "Requirement already satisfied: packaging>=20.0 in c:\\users\\poona\\appdata\\local\\programs\\python\\python312\\lib\\site-packages (from spacy<3.8.0,>=3.7.2->en-core-web-sm==3.7.1) (23.2)\n",
      "Requirement already satisfied: langcodes<4.0.0,>=3.2.0 in c:\\users\\poona\\appdata\\local\\programs\\python\\python312\\lib\\site-packages (from spacy<3.8.0,>=3.7.2->en-core-web-sm==3.7.1) (3.3.0)\n",
      "Requirement already satisfied: numpy>=1.19.0 in c:\\users\\poona\\appdata\\local\\programs\\python\\python312\\lib\\site-packages (from spacy<3.8.0,>=3.7.2->en-core-web-sm==3.7.1) (1.26.2)\n",
      "Requirement already satisfied: annotated-types>=0.4.0 in c:\\users\\poona\\appdata\\local\\programs\\python\\python312\\lib\\site-packages (from pydantic!=1.8,!=1.8.1,<3.0.0,>=1.7.4->spacy<3.8.0,>=3.7.2->en-core-web-sm==3.7.1) (0.6.0)\n",
      "Requirement already satisfied: pydantic-core==2.14.6 in c:\\users\\poona\\appdata\\local\\programs\\python\\python312\\lib\\site-packages (from pydantic!=1.8,!=1.8.1,<3.0.0,>=1.7.4->spacy<3.8.0,>=3.7.2->en-core-web-sm==3.7.1) (2.14.6)\n",
      "Requirement already satisfied: typing-extensions>=4.6.1 in c:\\users\\poona\\appdata\\local\\programs\\python\\python312\\lib\\site-packages (from pydantic!=1.8,!=1.8.1,<3.0.0,>=1.7.4->spacy<3.8.0,>=3.7.2->en-core-web-sm==3.7.1) (4.9.0)\n",
      "Requirement already satisfied: charset-normalizer<4,>=2 in c:\\users\\poona\\appdata\\local\\programs\\python\\python312\\lib\\site-packages (from requests<3.0.0,>=2.13.0->spacy<3.8.0,>=3.7.2->en-core-web-sm==3.7.1) (3.3.2)\n",
      "Requirement already satisfied: idna<4,>=2.5 in c:\\users\\poona\\appdata\\local\\programs\\python\\python312\\lib\\site-packages (from requests<3.0.0,>=2.13.0->spacy<3.8.0,>=3.7.2->en-core-web-sm==3.7.1) (3.6)\n",
      "Requirement already satisfied: urllib3<3,>=1.21.1 in c:\\users\\poona\\appdata\\local\\programs\\python\\python312\\lib\\site-packages (from requests<3.0.0,>=2.13.0->spacy<3.8.0,>=3.7.2->en-core-web-sm==3.7.1) (2.1.0)\n",
      "Requirement already satisfied: certifi>=2017.4.17 in c:\\users\\poona\\appdata\\local\\programs\\python\\python312\\lib\\site-packages (from requests<3.0.0,>=2.13.0->spacy<3.8.0,>=3.7.2->en-core-web-sm==3.7.1) (2023.11.17)\n",
      "Requirement already satisfied: blis<0.8.0,>=0.7.8 in c:\\users\\poona\\appdata\\local\\programs\\python\\python312\\lib\\site-packages (from thinc<8.3.0,>=8.1.8->spacy<3.8.0,>=3.7.2->en-core-web-sm==3.7.1) (0.7.11)\n",
      "Requirement already satisfied: confection<1.0.0,>=0.0.1 in c:\\users\\poona\\appdata\\local\\programs\\python\\python312\\lib\\site-packages (from thinc<8.3.0,>=8.1.8->spacy<3.8.0,>=3.7.2->en-core-web-sm==3.7.1) (0.1.4)\n",
      "Requirement already satisfied: colorama in c:\\users\\poona\\appdata\\local\\programs\\python\\python312\\lib\\site-packages (from tqdm<5.0.0,>=4.38.0->spacy<3.8.0,>=3.7.2->en-core-web-sm==3.7.1) (0.4.6)\n",
      "Requirement already satisfied: click<9.0.0,>=7.1.1 in c:\\users\\poona\\appdata\\local\\programs\\python\\python312\\lib\\site-packages (from typer<0.10.0,>=0.3.0->spacy<3.8.0,>=3.7.2->en-core-web-sm==3.7.1) (8.1.7)\n",
      "Requirement already satisfied: cloudpathlib<0.17.0,>=0.7.0 in c:\\users\\poona\\appdata\\local\\programs\\python\\python312\\lib\\site-packages (from weasel<0.4.0,>=0.1.0->spacy<3.8.0,>=3.7.2->en-core-web-sm==3.7.1) (0.16.0)\n",
      "Requirement already satisfied: MarkupSafe>=2.0 in c:\\users\\poona\\appdata\\local\\programs\\python\\python312\\lib\\site-packages (from jinja2->spacy<3.8.0,>=3.7.2->en-core-web-sm==3.7.1) (2.1.3)\n",
      "\u001b[38;5;2m[+] Download and installation successful\u001b[0m\n",
      "You can now load the package via spacy.load('en_core_web_sm')\n"
     ]
    }
   ],
   "source": [
    "!pip install feedparser sqlalchemy psycopg2 spacy redis celery\n",
    "!python -m spacy download en_core_web_sm\n"
   ]
  },
  {
   "cell_type": "code",
   "execution_count": 2,
   "id": "56008480-df32-44de-ad60-e3ddb0eafe04",
   "metadata": {},
   "outputs": [
    {
     "name": "stdout",
     "output_type": "stream",
     "text": [
      "Requirement already satisfied: feedparser in c:\\users\\poona\\appdata\\local\\programs\\python\\python312\\lib\\site-packages (6.0.11)\n",
      "Requirement already satisfied: sqlalchemy in c:\\users\\poona\\appdata\\local\\programs\\python\\python312\\lib\\site-packages (2.0.35)\n",
      "Requirement already satisfied: psycopg2-binary in c:\\users\\poona\\appdata\\local\\programs\\python\\python312\\lib\\site-packages (2.9.9)\n",
      "Requirement already satisfied: celery in c:\\users\\poona\\appdata\\local\\programs\\python\\python312\\lib\\site-packages (5.4.0)\n",
      "Requirement already satisfied: nltk in c:\\users\\poona\\appdata\\local\\programs\\python\\python312\\lib\\site-packages (3.8.1)\n",
      "Requirement already satisfied: spacy in c:\\users\\poona\\appdata\\local\\programs\\python\\python312\\lib\\site-packages (3.7.2)\n",
      "Requirement already satisfied: sgmllib3k in c:\\users\\poona\\appdata\\local\\programs\\python\\python312\\lib\\site-packages (from feedparser) (1.0.0)\n",
      "Requirement already satisfied: typing-extensions>=4.6.0 in c:\\users\\poona\\appdata\\local\\programs\\python\\python312\\lib\\site-packages (from sqlalchemy) (4.9.0)\n",
      "Requirement already satisfied: greenlet!=0.4.17 in c:\\users\\poona\\appdata\\local\\programs\\python\\python312\\lib\\site-packages (from sqlalchemy) (3.1.1)\n",
      "Requirement already satisfied: billiard<5.0,>=4.2.0 in c:\\users\\poona\\appdata\\local\\programs\\python\\python312\\lib\\site-packages (from celery) (4.2.1)\n",
      "Requirement already satisfied: kombu<6.0,>=5.3.4 in c:\\users\\poona\\appdata\\local\\programs\\python\\python312\\lib\\site-packages (from celery) (5.4.2)\n",
      "Requirement already satisfied: vine<6.0,>=5.1.0 in c:\\users\\poona\\appdata\\local\\programs\\python\\python312\\lib\\site-packages (from celery) (5.1.0)\n",
      "Requirement already satisfied: click<9.0,>=8.1.2 in c:\\users\\poona\\appdata\\local\\programs\\python\\python312\\lib\\site-packages (from celery) (8.1.7)\n",
      "Requirement already satisfied: click-didyoumean>=0.3.0 in c:\\users\\poona\\appdata\\local\\programs\\python\\python312\\lib\\site-packages (from celery) (0.3.1)\n",
      "Requirement already satisfied: click-repl>=0.2.0 in c:\\users\\poona\\appdata\\local\\programs\\python\\python312\\lib\\site-packages (from celery) (0.3.0)\n",
      "Requirement already satisfied: click-plugins>=1.1.1 in c:\\users\\poona\\appdata\\local\\programs\\python\\python312\\lib\\site-packages (from celery) (1.1.1)\n",
      "Requirement already satisfied: tzdata>=2022.7 in c:\\users\\poona\\appdata\\local\\programs\\python\\python312\\lib\\site-packages (from celery) (2023.3)\n",
      "Requirement already satisfied: python-dateutil>=2.8.2 in c:\\users\\poona\\appdata\\local\\programs\\python\\python312\\lib\\site-packages (from celery) (2.8.2)\n",
      "Requirement already satisfied: joblib in c:\\users\\poona\\appdata\\local\\programs\\python\\python312\\lib\\site-packages (from nltk) (1.3.2)\n",
      "Requirement already satisfied: regex>=2021.8.3 in c:\\users\\poona\\appdata\\local\\programs\\python\\python312\\lib\\site-packages (from nltk) (2023.12.25)\n",
      "Requirement already satisfied: tqdm in c:\\users\\poona\\appdata\\local\\programs\\python\\python312\\lib\\site-packages (from nltk) (4.66.1)\n",
      "Requirement already satisfied: spacy-legacy<3.1.0,>=3.0.11 in c:\\users\\poona\\appdata\\local\\programs\\python\\python312\\lib\\site-packages (from spacy) (3.0.12)\n",
      "Requirement already satisfied: spacy-loggers<2.0.0,>=1.0.0 in c:\\users\\poona\\appdata\\local\\programs\\python\\python312\\lib\\site-packages (from spacy) (1.0.5)\n",
      "Requirement already satisfied: murmurhash<1.1.0,>=0.28.0 in c:\\users\\poona\\appdata\\local\\programs\\python\\python312\\lib\\site-packages (from spacy) (1.0.10)\n",
      "Requirement already satisfied: cymem<2.1.0,>=2.0.2 in c:\\users\\poona\\appdata\\local\\programs\\python\\python312\\lib\\site-packages (from spacy) (2.0.8)\n",
      "Requirement already satisfied: preshed<3.1.0,>=3.0.2 in c:\\users\\poona\\appdata\\local\\programs\\python\\python312\\lib\\site-packages (from spacy) (3.0.9)\n",
      "Requirement already satisfied: thinc<8.3.0,>=8.1.8 in c:\\users\\poona\\appdata\\local\\programs\\python\\python312\\lib\\site-packages (from spacy) (8.2.2)\n",
      "Requirement already satisfied: wasabi<1.2.0,>=0.9.1 in c:\\users\\poona\\appdata\\local\\programs\\python\\python312\\lib\\site-packages (from spacy) (1.1.2)\n",
      "Requirement already satisfied: srsly<3.0.0,>=2.4.3 in c:\\users\\poona\\appdata\\local\\programs\\python\\python312\\lib\\site-packages (from spacy) (2.4.8)\n",
      "Requirement already satisfied: catalogue<2.1.0,>=2.0.6 in c:\\users\\poona\\appdata\\local\\programs\\python\\python312\\lib\\site-packages (from spacy) (2.0.10)\n",
      "Requirement already satisfied: weasel<0.4.0,>=0.1.0 in c:\\users\\poona\\appdata\\local\\programs\\python\\python312\\lib\\site-packages (from spacy) (0.3.4)\n",
      "Requirement already satisfied: typer<0.10.0,>=0.3.0 in c:\\users\\poona\\appdata\\local\\programs\\python\\python312\\lib\\site-packages (from spacy) (0.9.0)\n",
      "Requirement already satisfied: smart-open<7.0.0,>=5.2.1 in c:\\users\\poona\\appdata\\local\\programs\\python\\python312\\lib\\site-packages (from spacy) (6.4.0)\n",
      "Requirement already satisfied: requests<3.0.0,>=2.13.0 in c:\\users\\poona\\appdata\\local\\programs\\python\\python312\\lib\\site-packages (from spacy) (2.31.0)\n",
      "Requirement already satisfied: pydantic!=1.8,!=1.8.1,<3.0.0,>=1.7.4 in c:\\users\\poona\\appdata\\local\\programs\\python\\python312\\lib\\site-packages (from spacy) (2.5.3)\n",
      "Requirement already satisfied: jinja2 in c:\\users\\poona\\appdata\\local\\programs\\python\\python312\\lib\\site-packages (from spacy) (3.1.2)\n",
      "Requirement already satisfied: setuptools in c:\\users\\poona\\appdata\\local\\programs\\python\\python312\\lib\\site-packages (from spacy) (69.0.3)\n",
      "Requirement already satisfied: packaging>=20.0 in c:\\users\\poona\\appdata\\local\\programs\\python\\python312\\lib\\site-packages (from spacy) (23.2)\n",
      "Requirement already satisfied: langcodes<4.0.0,>=3.2.0 in c:\\users\\poona\\appdata\\local\\programs\\python\\python312\\lib\\site-packages (from spacy) (3.3.0)\n",
      "Requirement already satisfied: numpy>=1.19.0 in c:\\users\\poona\\appdata\\local\\programs\\python\\python312\\lib\\site-packages (from spacy) (1.26.2)\n",
      "Requirement already satisfied: colorama in c:\\users\\poona\\appdata\\local\\programs\\python\\python312\\lib\\site-packages (from click<9.0,>=8.1.2->celery) (0.4.6)\n",
      "Requirement already satisfied: prompt-toolkit>=3.0.36 in c:\\users\\poona\\appdata\\local\\programs\\python\\python312\\lib\\site-packages (from click-repl>=0.2.0->celery) (3.0.43)\n",
      "Requirement already satisfied: amqp<6.0.0,>=5.1.1 in c:\\users\\poona\\appdata\\local\\programs\\python\\python312\\lib\\site-packages (from kombu<6.0,>=5.3.4->celery) (5.2.0)\n",
      "Requirement already satisfied: annotated-types>=0.4.0 in c:\\users\\poona\\appdata\\local\\programs\\python\\python312\\lib\\site-packages (from pydantic!=1.8,!=1.8.1,<3.0.0,>=1.7.4->spacy) (0.6.0)\n",
      "Requirement already satisfied: pydantic-core==2.14.6 in c:\\users\\poona\\appdata\\local\\programs\\python\\python312\\lib\\site-packages (from pydantic!=1.8,!=1.8.1,<3.0.0,>=1.7.4->spacy) (2.14.6)\n",
      "Requirement already satisfied: six>=1.5 in c:\\users\\poona\\appdata\\local\\programs\\python\\python312\\lib\\site-packages (from python-dateutil>=2.8.2->celery) (1.16.0)\n",
      "Requirement already satisfied: charset-normalizer<4,>=2 in c:\\users\\poona\\appdata\\local\\programs\\python\\python312\\lib\\site-packages (from requests<3.0.0,>=2.13.0->spacy) (3.3.2)\n",
      "Requirement already satisfied: idna<4,>=2.5 in c:\\users\\poona\\appdata\\local\\programs\\python\\python312\\lib\\site-packages (from requests<3.0.0,>=2.13.0->spacy) (3.6)\n",
      "Requirement already satisfied: urllib3<3,>=1.21.1 in c:\\users\\poona\\appdata\\local\\programs\\python\\python312\\lib\\site-packages (from requests<3.0.0,>=2.13.0->spacy) (2.1.0)\n",
      "Requirement already satisfied: certifi>=2017.4.17 in c:\\users\\poona\\appdata\\local\\programs\\python\\python312\\lib\\site-packages (from requests<3.0.0,>=2.13.0->spacy) (2023.11.17)\n",
      "Requirement already satisfied: blis<0.8.0,>=0.7.8 in c:\\users\\poona\\appdata\\local\\programs\\python\\python312\\lib\\site-packages (from thinc<8.3.0,>=8.1.8->spacy) (0.7.11)\n",
      "Requirement already satisfied: confection<1.0.0,>=0.0.1 in c:\\users\\poona\\appdata\\local\\programs\\python\\python312\\lib\\site-packages (from thinc<8.3.0,>=8.1.8->spacy) (0.1.4)\n",
      "Requirement already satisfied: cloudpathlib<0.17.0,>=0.7.0 in c:\\users\\poona\\appdata\\local\\programs\\python\\python312\\lib\\site-packages (from weasel<0.4.0,>=0.1.0->spacy) (0.16.0)\n",
      "Requirement already satisfied: MarkupSafe>=2.0 in c:\\users\\poona\\appdata\\local\\programs\\python\\python312\\lib\\site-packages (from jinja2->spacy) (2.1.3)\n",
      "Requirement already satisfied: wcwidth in c:\\users\\poona\\appdata\\local\\programs\\python\\python312\\lib\\site-packages (from prompt-toolkit>=3.0.36->click-repl>=0.2.0->celery) (0.2.12)\n"
     ]
    }
   ],
   "source": [
    "!pip install feedparser sqlalchemy psycopg2-binary celery nltk spacy\n"
   ]
  },
  {
   "cell_type": "code",
   "execution_count": 3,
   "id": "df8ef4f0-cb0c-4f77-8b27-25a0b478f163",
   "metadata": {},
   "outputs": [
    {
     "name": "stderr",
     "output_type": "stream",
     "text": [
      "[nltk_data] Downloading package punkt to\n",
      "[nltk_data]     C:\\Users\\poona\\AppData\\Roaming\\nltk_data...\n",
      "[nltk_data]   Package punkt is already up-to-date!\n",
      "[nltk_data] Downloading package stopwords to\n",
      "[nltk_data]     C:\\Users\\poona\\AppData\\Roaming\\nltk_data...\n",
      "[nltk_data]   Package stopwords is already up-to-date!\n"
     ]
    },
    {
     "name": "stdout",
     "output_type": "stream",
     "text": [
      "Collecting en-core-web-sm==3.7.1\n",
      "  Using cached https://github.com/explosion/spacy-models/releases/download/en_core_web_sm-3.7.1/en_core_web_sm-3.7.1-py3-none-any.whl (12.8 MB)\n",
      "Requirement already satisfied: spacy<3.8.0,>=3.7.2 in c:\\users\\poona\\appdata\\local\\programs\\python\\python312\\lib\\site-packages (from en-core-web-sm==3.7.1) (3.7.2)\n",
      "Requirement already satisfied: spacy-legacy<3.1.0,>=3.0.11 in c:\\users\\poona\\appdata\\local\\programs\\python\\python312\\lib\\site-packages (from spacy<3.8.0,>=3.7.2->en-core-web-sm==3.7.1) (3.0.12)\n",
      "Requirement already satisfied: spacy-loggers<2.0.0,>=1.0.0 in c:\\users\\poona\\appdata\\local\\programs\\python\\python312\\lib\\site-packages (from spacy<3.8.0,>=3.7.2->en-core-web-sm==3.7.1) (1.0.5)\n",
      "Requirement already satisfied: murmurhash<1.1.0,>=0.28.0 in c:\\users\\poona\\appdata\\local\\programs\\python\\python312\\lib\\site-packages (from spacy<3.8.0,>=3.7.2->en-core-web-sm==3.7.1) (1.0.10)\n",
      "Requirement already satisfied: cymem<2.1.0,>=2.0.2 in c:\\users\\poona\\appdata\\local\\programs\\python\\python312\\lib\\site-packages (from spacy<3.8.0,>=3.7.2->en-core-web-sm==3.7.1) (2.0.8)\n",
      "Requirement already satisfied: preshed<3.1.0,>=3.0.2 in c:\\users\\poona\\appdata\\local\\programs\\python\\python312\\lib\\site-packages (from spacy<3.8.0,>=3.7.2->en-core-web-sm==3.7.1) (3.0.9)\n",
      "Requirement already satisfied: thinc<8.3.0,>=8.1.8 in c:\\users\\poona\\appdata\\local\\programs\\python\\python312\\lib\\site-packages (from spacy<3.8.0,>=3.7.2->en-core-web-sm==3.7.1) (8.2.2)\n",
      "Requirement already satisfied: wasabi<1.2.0,>=0.9.1 in c:\\users\\poona\\appdata\\local\\programs\\python\\python312\\lib\\site-packages (from spacy<3.8.0,>=3.7.2->en-core-web-sm==3.7.1) (1.1.2)\n",
      "Requirement already satisfied: srsly<3.0.0,>=2.4.3 in c:\\users\\poona\\appdata\\local\\programs\\python\\python312\\lib\\site-packages (from spacy<3.8.0,>=3.7.2->en-core-web-sm==3.7.1) (2.4.8)\n",
      "Requirement already satisfied: catalogue<2.1.0,>=2.0.6 in c:\\users\\poona\\appdata\\local\\programs\\python\\python312\\lib\\site-packages (from spacy<3.8.0,>=3.7.2->en-core-web-sm==3.7.1) (2.0.10)\n",
      "Requirement already satisfied: weasel<0.4.0,>=0.1.0 in c:\\users\\poona\\appdata\\local\\programs\\python\\python312\\lib\\site-packages (from spacy<3.8.0,>=3.7.2->en-core-web-sm==3.7.1) (0.3.4)\n",
      "Requirement already satisfied: typer<0.10.0,>=0.3.0 in c:\\users\\poona\\appdata\\local\\programs\\python\\python312\\lib\\site-packages (from spacy<3.8.0,>=3.7.2->en-core-web-sm==3.7.1) (0.9.0)\n",
      "Requirement already satisfied: smart-open<7.0.0,>=5.2.1 in c:\\users\\poona\\appdata\\local\\programs\\python\\python312\\lib\\site-packages (from spacy<3.8.0,>=3.7.2->en-core-web-sm==3.7.1) (6.4.0)\n",
      "Requirement already satisfied: tqdm<5.0.0,>=4.38.0 in c:\\users\\poona\\appdata\\local\\programs\\python\\python312\\lib\\site-packages (from spacy<3.8.0,>=3.7.2->en-core-web-sm==3.7.1) (4.66.1)\n",
      "Requirement already satisfied: requests<3.0.0,>=2.13.0 in c:\\users\\poona\\appdata\\local\\programs\\python\\python312\\lib\\site-packages (from spacy<3.8.0,>=3.7.2->en-core-web-sm==3.7.1) (2.31.0)\n",
      "Requirement already satisfied: pydantic!=1.8,!=1.8.1,<3.0.0,>=1.7.4 in c:\\users\\poona\\appdata\\local\\programs\\python\\python312\\lib\\site-packages (from spacy<3.8.0,>=3.7.2->en-core-web-sm==3.7.1) (2.5.3)\n",
      "Requirement already satisfied: jinja2 in c:\\users\\poona\\appdata\\local\\programs\\python\\python312\\lib\\site-packages (from spacy<3.8.0,>=3.7.2->en-core-web-sm==3.7.1) (3.1.2)\n",
      "Requirement already satisfied: setuptools in c:\\users\\poona\\appdata\\local\\programs\\python\\python312\\lib\\site-packages (from spacy<3.8.0,>=3.7.2->en-core-web-sm==3.7.1) (69.0.3)\n",
      "Requirement already satisfied: packaging>=20.0 in c:\\users\\poona\\appdata\\local\\programs\\python\\python312\\lib\\site-packages (from spacy<3.8.0,>=3.7.2->en-core-web-sm==3.7.1) (23.2)\n",
      "Requirement already satisfied: langcodes<4.0.0,>=3.2.0 in c:\\users\\poona\\appdata\\local\\programs\\python\\python312\\lib\\site-packages (from spacy<3.8.0,>=3.7.2->en-core-web-sm==3.7.1) (3.3.0)\n",
      "Requirement already satisfied: numpy>=1.19.0 in c:\\users\\poona\\appdata\\local\\programs\\python\\python312\\lib\\site-packages (from spacy<3.8.0,>=3.7.2->en-core-web-sm==3.7.1) (1.26.2)\n",
      "Requirement already satisfied: annotated-types>=0.4.0 in c:\\users\\poona\\appdata\\local\\programs\\python\\python312\\lib\\site-packages (from pydantic!=1.8,!=1.8.1,<3.0.0,>=1.7.4->spacy<3.8.0,>=3.7.2->en-core-web-sm==3.7.1) (0.6.0)\n",
      "Requirement already satisfied: pydantic-core==2.14.6 in c:\\users\\poona\\appdata\\local\\programs\\python\\python312\\lib\\site-packages (from pydantic!=1.8,!=1.8.1,<3.0.0,>=1.7.4->spacy<3.8.0,>=3.7.2->en-core-web-sm==3.7.1) (2.14.6)\n",
      "Requirement already satisfied: typing-extensions>=4.6.1 in c:\\users\\poona\\appdata\\local\\programs\\python\\python312\\lib\\site-packages (from pydantic!=1.8,!=1.8.1,<3.0.0,>=1.7.4->spacy<3.8.0,>=3.7.2->en-core-web-sm==3.7.1) (4.9.0)\n",
      "Requirement already satisfied: charset-normalizer<4,>=2 in c:\\users\\poona\\appdata\\local\\programs\\python\\python312\\lib\\site-packages (from requests<3.0.0,>=2.13.0->spacy<3.8.0,>=3.7.2->en-core-web-sm==3.7.1) (3.3.2)\n",
      "Requirement already satisfied: idna<4,>=2.5 in c:\\users\\poona\\appdata\\local\\programs\\python\\python312\\lib\\site-packages (from requests<3.0.0,>=2.13.0->spacy<3.8.0,>=3.7.2->en-core-web-sm==3.7.1) (3.6)\n",
      "Requirement already satisfied: urllib3<3,>=1.21.1 in c:\\users\\poona\\appdata\\local\\programs\\python\\python312\\lib\\site-packages (from requests<3.0.0,>=2.13.0->spacy<3.8.0,>=3.7.2->en-core-web-sm==3.7.1) (2.1.0)\n",
      "Requirement already satisfied: certifi>=2017.4.17 in c:\\users\\poona\\appdata\\local\\programs\\python\\python312\\lib\\site-packages (from requests<3.0.0,>=2.13.0->spacy<3.8.0,>=3.7.2->en-core-web-sm==3.7.1) (2023.11.17)\n",
      "Requirement already satisfied: blis<0.8.0,>=0.7.8 in c:\\users\\poona\\appdata\\local\\programs\\python\\python312\\lib\\site-packages (from thinc<8.3.0,>=8.1.8->spacy<3.8.0,>=3.7.2->en-core-web-sm==3.7.1) (0.7.11)\n",
      "Requirement already satisfied: confection<1.0.0,>=0.0.1 in c:\\users\\poona\\appdata\\local\\programs\\python\\python312\\lib\\site-packages (from thinc<8.3.0,>=8.1.8->spacy<3.8.0,>=3.7.2->en-core-web-sm==3.7.1) (0.1.4)\n",
      "Requirement already satisfied: colorama in c:\\users\\poona\\appdata\\local\\programs\\python\\python312\\lib\\site-packages (from tqdm<5.0.0,>=4.38.0->spacy<3.8.0,>=3.7.2->en-core-web-sm==3.7.1) (0.4.6)\n",
      "Requirement already satisfied: click<9.0.0,>=7.1.1 in c:\\users\\poona\\appdata\\local\\programs\\python\\python312\\lib\\site-packages (from typer<0.10.0,>=0.3.0->spacy<3.8.0,>=3.7.2->en-core-web-sm==3.7.1) (8.1.7)\n",
      "Requirement already satisfied: cloudpathlib<0.17.0,>=0.7.0 in c:\\users\\poona\\appdata\\local\\programs\\python\\python312\\lib\\site-packages (from weasel<0.4.0,>=0.1.0->spacy<3.8.0,>=3.7.2->en-core-web-sm==3.7.1) (0.16.0)\n",
      "Requirement already satisfied: MarkupSafe>=2.0 in c:\\users\\poona\\appdata\\local\\programs\\python\\python312\\lib\\site-packages (from jinja2->spacy<3.8.0,>=3.7.2->en-core-web-sm==3.7.1) (2.1.3)\n",
      "\u001b[38;5;2m[+] Download and installation successful\u001b[0m\n",
      "You can now load the package via spacy.load('en_core_web_sm')\n"
     ]
    }
   ],
   "source": [
    "import nltk\n",
    "nltk.download('punkt')\n",
    "nltk.download('stopwords')\n",
    "\n",
    "import spacy\n",
    "!python -m spacy download en_core_web_sm\n"
   ]
  },
  {
   "cell_type": "code",
   "execution_count": 4,
   "id": "af3d56eb-24fe-4f15-a9e2-16188841c60a",
   "metadata": {},
   "outputs": [],
   "source": [
    "def fetch_articles(feed_urls):\n",
    "    articles = []\n",
    "    for url in feed_urls:\n",
    "        feed = feedparser.parse(url)\n",
    "        for entry in feed.entries:\n",
    "            # Use .get() method to safely access attributes\n",
    "            articles.append({\n",
    "                'title': entry.title,\n",
    "                'content': getattr(entry, 'summary', ''),  # Default to empty string if not present\n",
    "                'pub_date': getattr(entry, 'published', None),  # Default to None if not present\n",
    "                'link': entry.link\n",
    "            })\n",
    "    return articles\n"
   ]
  },
  {
   "cell_type": "code",
   "execution_count": 5,
   "id": "a673aa8c-bc6b-42ea-b773-566df2fb107f",
   "metadata": {},
   "outputs": [],
   "source": [
    "# Define RSS feed URLs\n",
    "rss_feeds = [\n",
    "    'https://rss.cnn.com/rss/cnn_topstories.rss',  # CNN Top Stories\n",
    "    'https://rss.nytimes.com/services/xml/rss/nyt/HomePage.xml',  # NY Times Home Page\n",
    "    # Add more RSS feed URLs as needed\n",
    "    \n",
    "]\n",
    "\n",
    "# Function to fetch articles (make sure this is implemented in your code)\n",
    "def fetch_articles(rss_feeds):\n",
    "    articles = []\n",
    "    # Logic to fetch and process articles from RSS feeds\n",
    "    return articles\n",
    "\n",
    "# Fetch articles from the RSS feeds\n",
    "articles = fetch_articles(rss_feeds)\n",
    "\n",
    "# Print the first few articles to verify\n",
    "for article in articles[:5]:\n",
    "    print(article)\n"
   ]
  },
  {
   "cell_type": "code",
   "execution_count": 6,
   "id": "457318e8-fc47-4dee-a7d1-1d64df49690a",
   "metadata": {},
   "outputs": [],
   "source": [
    "# Fetch articles from the RSS feeds\n",
    "articles = fetch_articles(rss_feeds)\n",
    "\n",
    "# Print the first few articles to verify\n",
    "for article in articles[:5]:\n",
    "    print(article)\n"
   ]
  },
  {
   "cell_type": "code",
   "execution_count": 7,
   "id": "916d373f-02dc-4aa3-ab2b-8b3740fa7f7f",
   "metadata": {},
   "outputs": [],
   "source": [
    "unique_articles = []\n",
    "seen_titles = set()\n",
    "\n",
    "for article in articles:\n",
    "    if article['title'] not in seen_titles:\n",
    "        seen_titles.add(article['title'])\n",
    "        unique_articles.append(article)\n"
   ]
  },
  {
   "cell_type": "code",
   "execution_count": 8,
   "id": "5e1f1685-8320-4865-bd35-24c83d0d533b",
   "metadata": {},
   "outputs": [
    {
     "name": "stdout",
     "output_type": "stream",
     "text": [
      "Requirement already satisfied: mysql-connector-python in c:\\users\\poona\\appdata\\local\\programs\\python\\python312\\lib\\site-packages (9.0.0)\n"
     ]
    }
   ],
   "source": [
    "!pip install mysql-connector-python\n"
   ]
  },
  {
   "cell_type": "code",
   "execution_count": 9,
   "id": "f967503a-14a7-44ba-be1d-da1e181aeb6d",
   "metadata": {},
   "outputs": [
    {
     "name": "stdout",
     "output_type": "stream",
     "text": [
      "Connected to the database\n"
     ]
    }
   ],
   "source": [
    "import mysql.connector\n",
    "\n",
    "# Establish the connection\n",
    "connection = mysql.connector.connect(\n",
    "    host='localhost',          # Your database host\n",
    "    user='root',      # Your MySQL username\n",
    "    password='root',  # Your MySQL password\n",
    "    database='db'   # The name of the database you want to use\n",
    ")\n",
    "\n",
    "# Create a cursor object\n",
    "cursor = connection.cursor()\n",
    "\n",
    "# Check if the connection was successful\n",
    "if connection.is_connected():\n",
    "    print(\"Connected to the database\")\n",
    "else:\n",
    "    print(\"Connection failed\")\n"
   ]
  },
  {
   "cell_type": "code",
   "execution_count": 10,
   "id": "8e08558a-21f6-43c4-9193-78dc5a2250cf",
   "metadata": {},
   "outputs": [
    {
     "name": "stdout",
     "output_type": "stream",
     "text": [
      "Table created successfully\n"
     ]
    }
   ],
   "source": [
    "create_table_query = \"\"\"\n",
    "CREATE TABLE IF NOT EXISTS articles (\n",
    "    id INT AUTO_INCREMENT PRIMARY KEY,\n",
    "    title TEXT UNIQUE,\n",
    "    content TEXT,\n",
    "    pub_date DATETIME,\n",
    "    link TEXT,\n",
    "    category VARCHAR(50)\n",
    ");\n",
    "\"\"\"\n",
    "\n",
    "cursor.execute(create_table_query)\n",
    "print(\"Table created successfully\")\n"
   ]
  },
  {
   "cell_type": "code",
   "execution_count": 11,
   "id": "9a00892a-a737-446e-ab33-8773a19ab3fb",
   "metadata": {},
   "outputs": [],
   "source": [
    "cursor.close()\n",
    "connection.close()\n"
   ]
  },
  {
   "cell_type": "code",
   "execution_count": 13,
   "id": "d20f3121-37a1-494f-931c-e1222e416ba1",
   "metadata": {},
   "outputs": [
    {
     "name": "stderr",
     "output_type": "stream",
     "text": [
      "C:\\Users\\poona\\AppData\\Local\\Temp\\ipykernel_19568\\2040544927.py:10: MovedIn20Warning: The ``declarative_base()`` function is now available as sqlalchemy.orm.declarative_base(). (deprecated since: 2.0) (Background on SQLAlchemy 2.0 at: https://sqlalche.me/e/b8d9)\n",
      "  Base = declarative_base()\n"
     ]
    }
   ],
   "source": [
    "from sqlalchemy import create_engine, Column, Integer, String, Text, DateTime\n",
    "from sqlalchemy.ext.declarative import declarative_base\n",
    "from sqlalchemy.orm import sessionmaker\n",
    "from datetime import datetime\n",
    "from dateutil import parser  # to parse date strings\n",
    "\n",
    "# Use SQLite in-memory database or a file-based database\n",
    "DATABASE_URL = 'sqlite:///articles.db'  # ':memory:' for in-memory\n",
    "engine = create_engine(DATABASE_URL)\n",
    "Base = declarative_base()\n",
    "\n",
    "class Article(Base):\n",
    "    __tablename__ = 'articles'\n",
    "    id = Column(Integer, primary_key=True)\n",
    "    title = Column(Text, unique=True)\n",
    "    content = Column(Text)\n",
    "    pub_date = Column(DateTime)\n",
    "    link = Column(Text)\n",
    "    category = Column(String(50))\n",
    "\n",
    "# Create the database and tables\n",
    "Base.metadata.create_all(engine)\n",
    "\n",
    "# Create a new session\n",
    "Session = sessionmaker(bind=engine)\n",
    "session = Session()\n",
    "\n",
    "# Convert pub_date to datetime if it's a string\n",
    "for article in unique_articles:\n",
    "    if isinstance(article.get('pub_date'), str):\n",
    "        try:\n",
    "            article['pub_date'] = parser.parse(article['pub_date'])  # Parse string to datetime\n",
    "        except (ValueError, TypeError):\n",
    "            article['pub_date'] = None  # Set to None if parsing fails\n",
    "\n",
    "    new_article = Article(**article)\n",
    "    session.add(new_article)\n",
    "\n",
    "# Commit the changes\n",
    "try:\n",
    "    session.commit()\n",
    "except Exception as e:\n",
    "    session.rollback()  # Rollback in case of error\n",
    "    print(f\"Error occurred: {e}\")\n",
    "finally:\n",
    "    session.close()\n"
   ]
  },
  {
   "cell_type": "code",
   "execution_count": 14,
   "id": "ab5d4af9-0a14-420e-ae61-8dca68712744",
   "metadata": {},
   "outputs": [],
   "source": [
    "from celery import Celery\n",
    "\n",
    "app = Celery('tasks', broker='redis://localhost:6379/0')\n",
    "\n",
    "@app.task\n",
    "def classify_article(article):\n",
    "    # Dummy classification for demonstration; replace with your NLP logic\n",
    "    if 'earthquake' in article['content'].lower():\n",
    "        category = 'Natural Disasters'\n",
    "    elif 'protest' in article['content'].lower():\n",
    "        category = 'Terrorism / protest / political unrest / riot'\n",
    "    else:\n",
    "        category = 'Others'\n",
    "\n",
    "    # Update category in the database\n",
    "    db_article = session.query(Article).filter_by(title=article['title']).first()\n",
    "    db_article.category = category\n",
    "    session.commit()\n"
   ]
  },
  {
   "cell_type": "code",
   "execution_count": 15,
   "id": "6bd72119-6a5d-48bb-bb7e-7c69bbeb63f5",
   "metadata": {},
   "outputs": [],
   "source": [
    "from sqlalchemy.exc import IntegrityError\n",
    "\n",
    "def add_article(session, article):\n",
    "    # Check if the article with the same title already exists\n",
    "    existing_article = session.query(Article).filter_by(title=article['title']).first()\n",
    "    \n",
    "    if existing_article:\n",
    "        logging.warning(f\"Article with title '{article['title']}' already exists. Skipping insert.\")\n",
    "        return\n",
    "    \n",
    "    # Otherwise, add the new article\n",
    "    try:\n",
    "        new_article = Article(**article)\n",
    "        session.add(new_article)\n",
    "        session.commit()\n",
    "        logging.info(f\"Article '{article['title']}' added successfully.\")\n",
    "    except IntegrityError as e:\n",
    "        session.rollback()  # Rollback in case of failure\n",
    "        logging.error(f\"IntegrityError occurred: {e}\")\n"
   ]
  },
  {
   "cell_type": "code",
   "execution_count": 16,
   "id": "2091cdaf-0848-4b6e-8cfd-66dcba3fa7ad",
   "metadata": {},
   "outputs": [
    {
     "name": "stdout",
     "output_type": "stream",
     "text": [
      "An error occurred: name 'article' is not defined\n"
     ]
    }
   ],
   "source": [
    "from sqlalchemy import text\n",
    "from sqlalchemy.exc import IntegrityError\n",
    "\n",
    "try:\n",
    "    session.execute(\n",
    "        text(\"INSERT OR IGNORE INTO articles (title, content, pub_date, link, category) VALUES (?, ?, ?, ?, ?)\"),\n",
    "        (\n",
    "            article.get('title'), \n",
    "            article.get('content', ''),  # Default to an empty string if 'content' is missing\n",
    "            article.get('pub_date'),\n",
    "            article.get('link'),\n",
    "            article.get('category', None)  # Default to None if 'category' is missing\n",
    "        )\n",
    "    )\n",
    "    session.commit()\n",
    "except IntegrityError as e:\n",
    "    print(f\"Integrity error occurred: {e}\")\n",
    "    session.rollback()  # Roll back the session to clear the error\n",
    "except Exception as e:\n",
    "    print(f\"An error occurred: {e}\")\n",
    "    session.rollback()\n"
   ]
  },
  {
   "cell_type": "code",
   "execution_count": 17,
   "id": "712930c3-6583-43e9-8f8b-3eae128082e9",
   "metadata": {},
   "outputs": [],
   "source": [
    "try:\n",
    "    for article in unique_articles:\n",
    "        # Check if the article with the same title already exists\n",
    "        existing_article = session.query(Article).filter_by(title=article['title']).first()\n",
    "\n",
    "        if existing_article:\n",
    "            # Update the existing article if it already exists\n",
    "            existing_article.content = article.get('content', existing_article.content)\n",
    "            existing_article.pub_date = article.get('pub_date', existing_article.pub_date)\n",
    "            existing_article.link = article.get('link', existing_article.link)\n",
    "            existing_article.category = article.get('category', existing_article.category)\n",
    "        else:\n",
    "            # Create a new article if it does not exist\n",
    "            new_article = Article(**article)\n",
    "            session.add(new_article)\n",
    "\n",
    "    # Commit the changes once, after the loop to improve performance\n",
    "    session.commit()\n",
    "\n",
    "    # Queue classification for each unique article processed\n",
    "    for article in unique_articles:\n",
    "        classify_article.delay(article)  # Queue for classification\n",
    "\n",
    "except Exception as e:\n",
    "    # Rollback the session if there was an error\n",
    "    session.rollback()\n",
    "    print(f\"An error occurred: {e}\")\n",
    "\n",
    "finally:\n",
    "    # Close the session (optional, if you're done with the session)\n",
    "    session.close()\n"
   ]
  },
  {
   "cell_type": "code",
   "execution_count": 18,
   "id": "446627f4-08f9-47fc-a2e4-3534a81bb5dd",
   "metadata": {},
   "outputs": [],
   "source": [
    "import spacy\n",
    "\n",
    "# Load spaCy's English model\n",
    "nlp = spacy.load(\"en_core_web_sm\")\n",
    "\n",
    "CATEGORIES = {\n",
    "    \"terrorism\": [\"terrorism\", \"riot\", \"protest\", \"political unrest\"],\n",
    "    \"positive\": [\"uplifting\", \"positive\", \"inspiring\"],\n",
    "    \"natural_disasters\": [\"earthquake\", \"flood\", \"natural disaster\", \"hurricane\"],\n",
    "    \"others\": []\n",
    "}\n",
    "\n",
    "def classify_article(content):\n",
    "    doc = nlp(content)\n",
    "    for category, keywords in CATEGORIES.items():\n",
    "        if any(keyword in doc.text.lower() for keyword in keywords):\n",
    "            return category\n",
    "    return \"others\"\n"
   ]
  },
  {
   "cell_type": "code",
   "execution_count": 19,
   "id": "0b6db8e6-779e-4cdd-9fed-d8f417cb5781",
   "metadata": {},
   "outputs": [],
   "source": [
    "def fetch_and_process_articles():\n",
    "    articles = get_all_articles()\n",
    "    for article in articles:\n",
    "        process_article.delay(article)  # Add each article to the Celery queue\n"
   ]
  },
  {
   "cell_type": "code",
   "execution_count": 20,
   "id": "2fa531e0-73ce-45f3-bdc4-9b593ca07172",
   "metadata": {},
   "outputs": [],
   "source": [
    "import logging\n",
    "\n",
    "logging.basicConfig(filename='news_app.log', level=logging.INFO)\n",
    "\n",
    "def safe_parse_rss_feed(feed_url):\n",
    "    try:\n",
    "        return parse_rss_feed(feed_url)\n",
    "    except Exception as e:\n",
    "        logging.error(f\"Failed to parse feed {feed_url}: {e}\")\n",
    "        return []\n",
    "\n",
    "# Implement network error handling in database operations\n",
    "def safe_store_article(article, category):\n",
    "    try:\n",
    "        store_article(article, category)\n",
    "    except Exception as e:\n",
    "        logging.error(f\"Failed to store article {article['title']}: {e}\")\n"
   ]
  },
  {
   "cell_type": "code",
   "execution_count": 21,
   "id": "dd32f605-f424-4d7b-b83c-9123472a9318",
   "metadata": {},
   "outputs": [],
   "source": [
    "import logging\n",
    "\n",
    "logging.basicConfig(level=logging.INFO)\n",
    "\n",
    "def log_article_processing(article):\n",
    "    logging.info(f\"Processing article: {article['title']}\")\n"
   ]
  },
  {
   "cell_type": "code",
   "execution_count": 22,
   "id": "9e84102d-32cd-44e8-bfb0-838efda7e377",
   "metadata": {},
   "outputs": [],
   "source": [
    "try:\n",
    "    # Article processing logic here\n",
    "    pass  # Replace with actual logic\n",
    "except Exception as e:\n",
    "    logging.error(f\"Error processing article: {e}\")\n"
   ]
  },
  {
   "cell_type": "code",
   "execution_count": 23,
   "id": "d94dcb4c-76b8-4e49-8470-b22a148e0705",
   "metadata": {},
   "outputs": [],
   "source": [
    "from sqlalchemy import create_engine\n",
    "from sqlalchemy.orm import sessionmaker\n",
    "import pandas as pd\n",
    "\n",
    "# Assuming Article is already imported and is your SQLAlchemy ORM model\n",
    "\n",
    "# Define your database URL (e.g., for SQLite)\n",
    "DATABASE_URL = \"sqlite:///articles.db\"  # Make sure this is the correct path\n",
    "\n",
    "# Create an engine that connects to the database\n",
    "engine = create_engine(DATABASE_URL)\n",
    "\n",
    "# Create a configured \"Session\" class\n",
    "Session = sessionmaker(bind=engine)\n",
    "\n",
    "# Create a session instance\n",
    "session = Session()\n",
    "\n",
    "# Query the data from the Article table\n",
    "df = pd.read_sql(session.query(Article).statement, session.bind)\n",
    "\n",
    "# Save the data to a CSV file\n",
    "df.to_csv('articles.csv', index=False)\n"
   ]
  },
  {
   "cell_type": "code",
   "execution_count": 24,
   "id": "103b20e6-6210-46a1-b11f-06fedcd62eca",
   "metadata": {},
   "outputs": [
    {
     "name": "stdout",
     "output_type": "stream",
     "text": [
      "True\n",
      "True\n"
     ]
    }
   ],
   "source": [
    "import os\n",
    "\n",
    "print(os.path.exists('articles.db'))  # Returns True if the file exists\n",
    "print(os.path.exists('rss_feed_articles.db'))\n"
   ]
  },
  {
   "cell_type": "code",
   "execution_count": 25,
   "id": "a8948fbc-dd40-49c5-9195-502c42f53186",
   "metadata": {},
   "outputs": [],
   "source": [
    "df.to_csv('articles.csv', index=False, encoding='utf-8')\n"
   ]
  },
  {
   "cell_type": "code",
   "execution_count": 26,
   "id": "f2d27f33-94b7-4ab7-8d37-a64a69c5511e",
   "metadata": {},
   "outputs": [],
   "source": [
    "df.to_csv('articles.csv', index=False, encoding='utf-8-sig')  # Use utf-8-sig if there are BOM issues\n"
   ]
  },
  {
   "cell_type": "code",
   "execution_count": null,
   "id": "61a0bc24-a2cb-41df-a916-56f11c7865a5",
   "metadata": {},
   "outputs": [],
   "source": []
  },
  {
   "cell_type": "code",
   "execution_count": null,
   "id": "b955cfc8-6ff1-4eac-a7c2-1a055f01bd62",
   "metadata": {},
   "outputs": [],
   "source": []
  }
 ],
 "metadata": {
  "kernelspec": {
   "display_name": "Python 3 (ipykernel)",
   "language": "python",
   "name": "python3"
  },
  "language_info": {
   "codemirror_mode": {
    "name": "ipython",
    "version": 3
   },
   "file_extension": ".py",
   "mimetype": "text/x-python",
   "name": "python",
   "nbconvert_exporter": "python",
   "pygments_lexer": "ipython3",
   "version": "3.12.1"
  }
 },
 "nbformat": 4,
 "nbformat_minor": 5
}
